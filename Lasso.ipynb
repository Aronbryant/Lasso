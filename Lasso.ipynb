{
 "cells": [
  {
   "cell_type": "markdown",
   "metadata": {},
   "source": [
    "# https://github.com/Aronbryant"
   ]
  },
  {
   "cell_type": "markdown",
   "metadata": {},
   "source": [
    "# 1利用EN,Lasso，Ridge对IRIS数据集建立回归模型并比较"
   ]
  },
  {
   "cell_type": "code",
   "execution_count": 1,
   "metadata": {
    "collapsed": true
   },
   "outputs": [],
   "source": [
    "#以iris数据为例\n",
    "#导入基本程序包\n",
    "import pandas  as pd\n",
    "import numpy  as np\n",
    "from sklearn.datasets import load_iris\n",
    "from sklearn import linear_model\n",
    "from sklearn import metrics\n",
    "#导入IRIS数据集 \n",
    "iris = load_iris() \n",
    " #特征矩阵 \n",
    "X=iris.data \n",
    " #目标向量 \n",
    "y=iris.target\n"
   ]
  },
  {
   "cell_type": "code",
   "execution_count": 2,
   "metadata": {},
   "outputs": [
    {
     "data": {
      "text/plain": [
       "array([[5.1, 3.5, 1.4, 0.2],\n",
       "       [4.9, 3. , 1.4, 0.2],\n",
       "       [4.7, 3.2, 1.3, 0.2],\n",
       "       [4.6, 3.1, 1.5, 0.2],\n",
       "       [5. , 3.6, 1.4, 0.2]])"
      ]
     },
     "execution_count": 2,
     "metadata": {},
     "output_type": "execute_result"
    }
   ],
   "source": [
    "X[:5,:]"
   ]
  },
  {
   "cell_type": "code",
   "execution_count": 3,
   "metadata": {},
   "outputs": [
    {
     "name": "stdout",
     "output_type": "stream",
     "text": [
      "RMSE: 0.19670925882853948\n"
     ]
    },
    {
     "name": "stderr",
     "output_type": "stream",
     "text": [
      "C:\\ProgramData\\Anaconda3\\lib\\site-packages\\sklearn\\cross_validation.py:41: DeprecationWarning: This module was deprecated in version 0.18 in favor of the model_selection module into which all the refactored classes and functions are moved. Also note that the interface of the new CV iterators are different from that of this module. This module will be removed in 0.20.\n",
      "  \"This module will be removed in 0.20.\", DeprecationWarning)\n"
     ]
    }
   ],
   "source": [
    "from sklearn.cross_validation import train_test_split #导入数据划分包\n",
    "#以20%的数据构建测试样本，剩余作为训练样本\n",
    "X_train,X_test,y_train,y_test=train_test_split(X,y,test_size=0.20,random_state =133)\n",
    "elastic= linear_model.ElasticNet(alpha=0.1,l1_ratio=0.5)  # 设置lambda值,l1_ratio值 ，这里需要注意的是，ElasticNet最基本的参数是alpha、l1_ratio，alpha其正则化选项中的λ，l1_ratio则是对应α。这里的random_state就是为了保证程序每次运行都分割一样的训练集和测试集。\n",
    "elastic.fit(X_train,y_train)  #使用训练数据进行参数求解\n",
    "y_hat2 = elastic.predict(X_test)  #对测试集的预测\n",
    "print (\"RMSE:\", np.sqrt(metrics.mean_squared_error(y_test, y_hat2)))  #计算RMSE"
   ]
  },
  {
   "cell_type": "code",
   "execution_count": 4,
   "metadata": {},
   "outputs": [
    {
     "name": "stdout",
     "output_type": "stream",
     "text": [
      "RMSE: 0.18376398167079275\n"
     ]
    }
   ],
   "source": [
    "ridge= linear_model.Ridge(alpha=0.1)  # 设置lambda值\n",
    "ridge.fit(X_train,y_train)  #使用训练数据进行参数求解\n",
    "y_hat = ridge.predict(X_test)  #对测试集的预测\n",
    "from sklearn import metrics  #导入metrics评价模块\n",
    "print (\"RMSE:\", np.sqrt(metrics.mean_squared_error(y_test, y_hat)))  #计算RMSE\n",
    "\n"
   ]
  },
  {
   "cell_type": "code",
   "execution_count": 5,
   "metadata": {},
   "outputs": [
    {
     "name": "stdout",
     "output_type": "stream",
     "text": [
      "RMSE: 0.2089491940216403\n"
     ]
    }
   ],
   "source": [
    "lasso= linear_model.Lasso(alpha=0.1)  # 设置lambda值\n",
    "lasso.fit(X_train,y_train)  #使用训练数据进行参数求解\n",
    "y_hat1 = lasso.predict(X_test)  #对测试集的预测\n",
    "print (\"RMSE:\", np.sqrt(metrics.mean_squared_error(y_test, y_hat1)))  #计算RMSE\n"
   ]
  },
  {
   "cell_type": "markdown",
   "metadata": {},
   "source": [
    "###  可以得到岭回归的RMSE: 0.18376398167079275；得到Lasso回归的RMSE: 0.2089491940216403，我们看到，在相同的lambda值下，ElasticNet回归的RMSE介于岭回归、lasso之间，即比Lasso回归的效果好，比岭回归的效果差。当然我们可以调整参数，会得到不同结果。"
   ]
  },
  {
   "cell_type": "markdown",
   "metadata": {},
   "source": [
    "# 2仿真一组样本数据，利用EN进行分析"
   ]
  },
  {
   "cell_type": "code",
   "execution_count": 6,
   "metadata": {},
   "outputs": [
    {
     "name": "stderr",
     "output_type": "stream",
     "text": [
      "C:\\ProgramData\\Anaconda3\\lib\\site-packages\\sklearn\\linear_model\\coordinate_descent.py:491: ConvergenceWarning: Objective did not converge. You might want to increase the number of iterations. Fitting data with very small alpha may cause precision problems.\n",
      "  ConvergenceWarning)\n",
      "C:\\ProgramData\\Anaconda3\\lib\\site-packages\\sklearn\\linear_model\\coordinate_descent.py:491: ConvergenceWarning: Objective did not converge. You might want to increase the number of iterations. Fitting data with very small alpha may cause precision problems.\n",
      "  ConvergenceWarning)\n",
      "C:\\ProgramData\\Anaconda3\\lib\\site-packages\\sklearn\\linear_model\\coordinate_descent.py:491: ConvergenceWarning: Objective did not converge. You might want to increase the number of iterations. Fitting data with very small alpha may cause precision problems.\n",
      "  ConvergenceWarning)\n",
      "C:\\ProgramData\\Anaconda3\\lib\\site-packages\\sklearn\\linear_model\\coordinate_descent.py:491: ConvergenceWarning: Objective did not converge. You might want to increase the number of iterations. Fitting data with very small alpha may cause precision problems.\n",
      "  ConvergenceWarning)\n",
      "C:\\ProgramData\\Anaconda3\\lib\\site-packages\\sklearn\\linear_model\\coordinate_descent.py:491: ConvergenceWarning: Objective did not converge. You might want to increase the number of iterations. Fitting data with very small alpha may cause precision problems.\n",
      "  ConvergenceWarning)\n",
      "C:\\ProgramData\\Anaconda3\\lib\\site-packages\\sklearn\\linear_model\\coordinate_descent.py:491: ConvergenceWarning: Objective did not converge. You might want to increase the number of iterations. Fitting data with very small alpha may cause precision problems.\n",
      "  ConvergenceWarning)\n",
      "C:\\ProgramData\\Anaconda3\\lib\\site-packages\\sklearn\\linear_model\\coordinate_descent.py:491: ConvergenceWarning: Objective did not converge. You might want to increase the number of iterations. Fitting data with very small alpha may cause precision problems.\n",
      "  ConvergenceWarning)\n",
      "C:\\ProgramData\\Anaconda3\\lib\\site-packages\\sklearn\\linear_model\\coordinate_descent.py:491: ConvergenceWarning: Objective did not converge. You might want to increase the number of iterations. Fitting data with very small alpha may cause precision problems.\n",
      "  ConvergenceWarning)\n",
      "C:\\ProgramData\\Anaconda3\\lib\\site-packages\\sklearn\\linear_model\\coordinate_descent.py:491: ConvergenceWarning: Objective did not converge. You might want to increase the number of iterations. Fitting data with very small alpha may cause precision problems.\n",
      "  ConvergenceWarning)\n",
      "C:\\ProgramData\\Anaconda3\\lib\\site-packages\\sklearn\\linear_model\\coordinate_descent.py:491: ConvergenceWarning: Objective did not converge. You might want to increase the number of iterations. Fitting data with very small alpha may cause precision problems.\n",
      "  ConvergenceWarning)\n",
      "C:\\ProgramData\\Anaconda3\\lib\\site-packages\\sklearn\\linear_model\\coordinate_descent.py:491: ConvergenceWarning: Objective did not converge. You might want to increase the number of iterations. Fitting data with very small alpha may cause precision problems.\n",
      "  ConvergenceWarning)\n",
      "C:\\ProgramData\\Anaconda3\\lib\\site-packages\\sklearn\\linear_model\\coordinate_descent.py:491: ConvergenceWarning: Objective did not converge. You might want to increase the number of iterations. Fitting data with very small alpha may cause precision problems.\n",
      "  ConvergenceWarning)\n",
      "C:\\ProgramData\\Anaconda3\\lib\\site-packages\\sklearn\\linear_model\\coordinate_descent.py:491: ConvergenceWarning: Objective did not converge. You might want to increase the number of iterations. Fitting data with very small alpha may cause precision problems.\n",
      "  ConvergenceWarning)\n",
      "C:\\ProgramData\\Anaconda3\\lib\\site-packages\\sklearn\\linear_model\\coordinate_descent.py:491: ConvergenceWarning: Objective did not converge. You might want to increase the number of iterations. Fitting data with very small alpha may cause precision problems.\n",
      "  ConvergenceWarning)\n",
      "C:\\ProgramData\\Anaconda3\\lib\\site-packages\\sklearn\\linear_model\\coordinate_descent.py:491: ConvergenceWarning: Objective did not converge. You might want to increase the number of iterations. Fitting data with very small alpha may cause precision problems.\n",
      "  ConvergenceWarning)\n",
      "C:\\ProgramData\\Anaconda3\\lib\\site-packages\\sklearn\\linear_model\\coordinate_descent.py:491: ConvergenceWarning: Objective did not converge. You might want to increase the number of iterations. Fitting data with very small alpha may cause precision problems.\n",
      "  ConvergenceWarning)\n"
     ]
    },
    {
     "name": "stdout",
     "output_type": "stream",
     "text": [
      "最优正则化参数 : 0.000335292414924956\n"
     ]
    },
    {
     "name": "stderr",
     "output_type": "stream",
     "text": [
      "C:\\ProgramData\\Anaconda3\\lib\\site-packages\\sklearn\\linear_model\\coordinate_descent.py:491: ConvergenceWarning: Objective did not converge. You might want to increase the number of iterations. Fitting data with very small alpha may cause precision problems.\n",
      "  ConvergenceWarning)\n",
      "C:\\ProgramData\\Anaconda3\\lib\\site-packages\\matplotlib\\mathtext.py:854: MathTextWarning: Font 'default' does not have a glyph for '-' [U+2212]\n",
      "  MathTextWarning)\n",
      "C:\\ProgramData\\Anaconda3\\lib\\site-packages\\matplotlib\\mathtext.py:855: MathTextWarning: Substituting with a dummy symbol.\n",
      "  warn(\"Substituting with a dummy symbol.\", MathTextWarning)\n"
     ]
    },
    {
     "data": {
      "image/png": "[encoded data removed]",
      "text/plain": [
       "<matplotlib.figure.Figure at 0x2b84a1625f8>"
      ]
     },
     "metadata": {},
     "output_type": "display_data"
    }
   ],
   "source": [
    " import numpy as np  \n",
    " from sklearn import linear_model  \n",
    " \n",
    " \n",
    " # 生成一组样本数据，并手动分割数据集\n",
    " n_samples_train, n_samples_test, n_features = 75, 150, 500  \n",
    " np.random.seed(0)  \n",
    " coef = np.random.randn(n_features)  \n",
    " coef[50:] = 0.0  # 只让前五十个变量影响模型 \n",
    " X = np.random.randn(n_samples_train + n_samples_test, n_features)  \n",
    " y = np.dot(X, coef)  \n",
    " \n",
    " # 分离训练集和测试集  \n",
    " X_train, X_test = X[:n_samples_train], X[n_samples_train:]  \n",
    " y_train, y_test = y[:n_samples_train], y[n_samples_train:]  \n",
    " \n",
    "\n",
    " # 计算训练误差和测试误差\n",
    " alphas = np.logspace(-5, 1, 60)  \n",
    " en = linear_model.ElasticNet(l1_ratio=0.7)  \n",
    " train_errors = list()  \n",
    " test_errors = list()  \n",
    " for alpha in alphas:  \n",
    "     en.set_params(alpha=alpha)  \n",
    "     en.fit(X_train, y_train)  \n",
    "     train_errors.append(en.score(X_train, y_train))  \n",
    "     test_errors.append(en.score(X_test, y_test))  \n",
    " \n",
    " i_alpha_optim = np.argmax(test_errors)  \n",
    " alpha_optim = alphas[i_alpha_optim]  \n",
    " print(\"最优正则化参数 : %s\" % alpha_optim)  \n",
    " \n",
    " # 在整个数据集上用正则化参数估计系数 \n",
    " en.set_params(alpha=alpha_optim)  \n",
    " coef_ = en.fit(X, y).coef_  \n",
    " \n",
    "\n",
    " # 画出结果图 \n",
    " \n",
    " import matplotlib.pyplot as plt  \n",
    "    \n",
    " #正确显示中文   \n",
    " plt.rcParams['font.sans-serif'] = 'SimHei'\n",
    " plt.rcParams['axes.unicode_minus'] = False\n",
    " plt.subplot(2, 1, 1)  \n",
    " plt.semilogx(alphas, train_errors, label='Train')  \n",
    " plt.semilogx(alphas, test_errors, label='Test')  \n",
    " plt.vlines(alpha_optim, plt.ylim()[0], np.max(test_errors), color='k',  \n",
    "         linewidth=3, label='Optimum on test')  \n",
    " plt.legend(loc='lower left')  \n",
    " plt.ylim([0, 1.2])  \n",
    " plt.xlabel('paramter')  \n",
    " plt.ylabel('Performance')  \n",
    " plt.rcParams['font.sans-serif'] = 'SimHei'\n",
    " plt.rcParams['axes.unicode_minus'] = False\n",
    " plt.subplot(2, 1, 2)  \n",
    " plt.plot(coef, label='真实参数')  \n",
    " plt.plot(coef_, label='估计参数')  \n",
    " plt.legend()  \n",
    " plt.subplots_adjust(0.09, 0.04, 0.94, 0.94, 0.26, 0.26)  \n",
    " plt.show()  "
   ]
  },
  {
   "cell_type": "code",
   "execution_count": 7,
   "metadata": {},
   "outputs": [],
   "source": [
    "pass"
   ]
  },
  {
   "cell_type": "code",
   "execution_count": null,
   "metadata": {
    "collapsed": true
   },
   "outputs": [],
   "source": []
  },
  {
   "cell_type": "code",
   "execution_count": null,
   "metadata": {
    "collapsed": true
   },
   "outputs": [],
   "source": []
  },
  {
   "cell_type": "code",
   "execution_count": null,
   "metadata": {
    "collapsed": true
   },
   "outputs": [],
   "source": []
  },
  {
   "cell_type": "code",
   "execution_count": null,
   "metadata": {
    "collapsed": true
   },
   "outputs": [],
   "source": []
  }
 ],
 "metadata": {
  "kernelspec": {
   "display_name": "Python 3",
   "language": "python",
   "name": "python3"
  },
  "language_info": {
   "codemirror_mode": {
    "name": "ipython",
    "version": 3
   },
   "file_extension": ".py",
   "mimetype": "text/x-python",
   "name": "python",
   "nbconvert_exporter": "python",
   "pygments_lexer": "ipython3",
   "version": "3.6.3"
  }
 },
 "nbformat": 4,
 "nbformat_minor": 2
}
