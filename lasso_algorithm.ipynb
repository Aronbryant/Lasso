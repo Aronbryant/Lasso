{
 "cells": [
  {
   "cell_type": "markdown",
   "metadata": {},
   "source": [
    "# 坐标下降算法（以Lasso为例，其他同理）\n"
   ]
  },
  {
   "cell_type": "code",
   "execution_count": 1,
   "metadata": {},
   "outputs": [],
   "source": [
    "\"\"\"lasso回归（坐标下降）\n",
    "   参数可调:learning_rate=0.01,n=1000,a=1,b=0.5 (约束L1和L2番薯）\n",
    "\"\"\"\n",
    "class ElasticNet():\n",
    "    def _init_(self,learning_rate=0.01, n =1000 , a= 0.5 ,b =1):\n",
    "        self.learning_rate = learning_rate\n",
    "        self.n = n\n",
    "        self.a = a\n",
    "        self.b = b\n",
    "        \n",
    "        \n",
    "    #坐标轴下降\n",
    "    def coordinate(self):\n",
    "        for i in range(self.num + 1):\n",
    "            a = (1/self.m)*(self.X[:,i].T.dot(*self.X[:,i].reshape(1,-1)))+self.a*(1-self.b)\n",
    "            dw = np.matrix(np.zeros((1,self.num+1)))\n",
    "            dw[0,i] = self.w[i]\n",
    "            b = (1/self.m)*(self.X.T*(self.Y.reshape(-1,1)-self.X.dot((self.w-dw).T)))[i,0]\n",
    "            if b < -self.a*self.b:\n",
    "                self.w[i] = (b + self.a*self.b)/a\n",
    "            elif b > self.a*self.b:\n",
    "                self.w[i] = (b - self.a*self.b)/a\n",
    "                \n",
    "            else:\n",
    "                self.w[i] = 0\n",
    "    \n",
    "    ##计算损失函数    \n",
    "    def costfunction(self):\n",
    "        return 1/(2*self.m)*((self.X.dot(self.w.reshape(-1,1))-self.Y.reshape(-1,1))**2).sum()\n",
    "        +self.a*self.b(bp.abs(self.w)).sum() + (self.a*(1-self.b))/2*(self.w**2).sum()\n",
    "    \n",
    "    ##迭代训练    \n",
    "    def fit(self,X,Y):\n",
    "        self.w = np.array([0. for x in range(X.shape[1]+1)])\n",
    "        self.m,self.num  = X.shape\n",
    "        self.X = np.c_[X, [1 for x in range(self.m)]]\n",
    "        self.Y = Y\n",
    "        cost1 = self.costfunction()\n",
    "        cost2 = 0\n",
    "        for i in range(self.n):\n",
    "            if abs(cost1 - cost2 ) <= 0.01:\n",
    "                break\n",
    "        else:\n",
    "            cost1 = self.costfunction()\n",
    "            self.coordinate()\n",
    "            cost2 = self.costfunction()\n",
    "    ##预测   \n",
    "    def predict(self,Xt):\n",
    "        Xt = np.c_[Xt,[1 for x in range(Xt.shape[0])]]\n",
    "        return Xt.dot(self.w.t)\n",
    "\n",
    "\n"
   ]
  },
  {
   "cell_type": "code",
   "execution_count": null,
   "metadata": {},
   "outputs": [],
   "source": []
  },
  {
   "cell_type": "code",
   "execution_count": null,
   "metadata": {
    "collapsed": true
   },
   "outputs": [],
   "source": []
  },
  {
   "cell_type": "code",
   "execution_count": null,
   "metadata": {},
   "outputs": [],
   "source": []
  },
  {
   "cell_type": "code",
   "execution_count": null,
   "metadata": {},
   "outputs": [],
   "source": []
  },
  {
   "cell_type": "code",
   "execution_count": null,
   "metadata": {
    "collapsed": true
   },
   "outputs": [],
   "source": []
  },
  {
   "cell_type": "code",
   "execution_count": null,
   "metadata": {
    "collapsed": true
   },
   "outputs": [],
   "source": []
  },
  {
   "cell_type": "code",
   "execution_count": null,
   "metadata": {
    "collapsed": true
   },
   "outputs": [],
   "source": []
  },
  {
   "cell_type": "code",
   "execution_count": null,
   "metadata": {
    "collapsed": true
   },
   "outputs": [],
   "source": []
  },
  {
   "cell_type": "code",
   "execution_count": null,
   "metadata": {
    "collapsed": true
   },
   "outputs": [],
   "source": []
  },
  {
   "cell_type": "code",
   "execution_count": null,
   "metadata": {
    "collapsed": true
   },
   "outputs": [],
   "source": []
  }
 ],
 "metadata": {
  "kernelspec": {
   "display_name": "Python 3",
   "language": "python",
   "name": "python3"
  },
  "language_info": {
   "codemirror_mode": {
    "name": "ipython",
    "version": 3
   },
   "file_extension": ".py",
   "mimetype": "text/x-python",
   "name": "python",
   "nbconvert_exporter": "python",
   "pygments_lexer": "ipython3",
   "version": "3.6.3"
  }
 },
 "nbformat": 4,
 "nbformat_minor": 2
}
